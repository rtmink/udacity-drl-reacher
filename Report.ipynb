{
 "cells": [
  {
   "cell_type": "markdown",
   "metadata": {},
   "source": [
    "# Train Agent on Unity Environment\n",
    "\n",
    "---\n",
    "\n",
    "## Start the Environment\n",
    "\n",
    "Below assumes that one has followed the instruction on the README file such that the Unity environment is ready."
   ]
  },
  {
   "cell_type": "code",
   "execution_count": 2,
   "metadata": {},
   "outputs": [
    {
     "name": "stderr",
     "output_type": "stream",
     "text": [
      "INFO:unityagents:\n",
      "'Academy' started successfully!\n",
      "Unity Academy name: Academy\n",
      "        Number of Brains: 1\n",
      "        Number of External Brains : 1\n",
      "        Lesson number : 0\n",
      "        Reset Parameters :\n",
      "\t\tgoal_speed -> 1.0\n",
      "\t\tgoal_size -> 5.0\n",
      "Unity brain name: ReacherBrain\n",
      "        Number of Visual Observations (per agent): 0\n",
      "        Vector Observation space type: continuous\n",
      "        Vector Observation space size (per agent): 33\n",
      "        Number of stacked Vector Observation: 1\n",
      "        Vector Action space type: continuous\n",
      "        Vector Action space size (per agent): 4\n",
      "        Vector Action descriptions: , , , \n"
     ]
    }
   ],
   "source": [
    "from unityagents import UnityEnvironment\n",
    "import numpy as np\n",
    "\n",
    "env = UnityEnvironment(file_name='Reacher.app')"
   ]
  },
  {
   "cell_type": "markdown",
   "metadata": {},
   "source": [
    "Environments contain brains which are responsible for deciding the actions of their associated agents. Here we check for the first brain available, and set it as the default brain we will be controlling from Python."
   ]
  },
  {
   "cell_type": "code",
   "execution_count": 3,
   "metadata": {},
   "outputs": [],
   "source": [
    "# get the default brain\n",
    "brain_name = env.brain_names[0]\n",
    "brain = env.brains[brain_name]"
   ]
  },
  {
   "cell_type": "markdown",
   "metadata": {},
   "source": [
    "## Examine the State and Action Spaces\n",
    "\n",
    "Run the code cell below to print some information about the environment."
   ]
  },
  {
   "cell_type": "code",
   "execution_count": 4,
   "metadata": {},
   "outputs": [
    {
     "name": "stdout",
     "output_type": "stream",
     "text": [
      "Number of agents: 20\n",
      "Size of each action: 4\n",
      "There are 20 agents. Each observes a state with length: 33\n",
      "The state for the first agent looks like: [  0.00000000e+00  -4.00000000e+00   0.00000000e+00   1.00000000e+00\n",
      "  -0.00000000e+00  -0.00000000e+00  -4.37113883e-08   0.00000000e+00\n",
      "   0.00000000e+00   0.00000000e+00   0.00000000e+00   0.00000000e+00\n",
      "   0.00000000e+00   0.00000000e+00  -1.00000000e+01   0.00000000e+00\n",
      "   1.00000000e+00  -0.00000000e+00  -0.00000000e+00  -4.37113883e-08\n",
      "   0.00000000e+00   0.00000000e+00   0.00000000e+00   0.00000000e+00\n",
      "   0.00000000e+00   0.00000000e+00   5.75471878e+00  -1.00000000e+00\n",
      "   5.55726624e+00   0.00000000e+00   1.00000000e+00   0.00000000e+00\n",
      "  -1.68164849e-01]\n"
     ]
    }
   ],
   "source": [
    "# reset the environment\n",
    "env_info = env.reset(train_mode=True)[brain_name]\n",
    "\n",
    "# number of agents\n",
    "num_agents = len(env_info.agents)\n",
    "print('Number of agents:', num_agents)\n",
    "\n",
    "# size of each action\n",
    "action_size = brain.vector_action_space_size\n",
    "print('Size of each action:', action_size)\n",
    "\n",
    "# examine the state space \n",
    "states = env_info.vector_observations\n",
    "state_size = states.shape[1]\n",
    "print('There are {} agents. Each observes a state with length: {}'.format(states.shape[0], state_size))\n",
    "print('The state for the first agent looks like:', states[0])"
   ]
  },
  {
   "cell_type": "markdown",
   "metadata": {},
   "source": [
    "## Background"
   ]
  },
  {
   "cell_type": "markdown",
   "metadata": {},
   "source": [
    "The algorithm used is based on [Deep Deterministic Policy Gradients (DDPG)](https://arxiv.org/abs/1509.02971). Specifically, it is a distributed version of the algorithm referred to as D3PG which is mentioned [here](https://openreview.net/forum?id=SyZipzbCb). \n",
    "\n",
    "In the aforementioned paper, it is referred to as an \"Actor-Critic\" method which involves an \"Actor\" which acts as a policy network and a \"Critic\" which acts as a value network. The \"Actor\" chooses an action given a state and the \"Critic\" informs the \"Actor\" which action in a given state should have its probability of occurring increased because it leads to a high reward and vice versa.\n",
    "\n",
    "The hyperparameters are mostly inspired by the first [paper](https://arxiv.org/abs/1509.02971):\n",
    "\n",
    "|Hyperparameters|Value|\n",
    "|---|---|\n",
    "|Replay Buffer size|1e6|\n",
    "|Batch size|512|\n",
    "|Discount factor (gamma)|0.99|\n",
    "|Soft update parameter (tau)|1e-3|\n",
    "|Actor learning rate|5e-4|\n",
    "|Critic learning rate|5e-4|\n",
    "|Weight decay|0|\n",
    "|Ornstein-Uhlenbeck theta|0.15|\n",
    "|Ornstein-Uhlenbeck sigma|0.2|\n",
    "|Number of layers|2|\n",
    "|Number of units for first hidden layer|400|\n",
    "|Number of units for second hidden layer|300|\n",
    "\n",
    "with the exception of the batch size and learning rates which were obtained through hyperparameter search.\n",
    "\n",
    "Batch sizes of 64, 128, 256, 512, and 1024 were tested and 512 performed the best.\n",
    "\n",
    "Learning rates of 1e-2, 5e-3, 1e-3, 5e-4, 1e-4 and 1e-5 were tested for both the \"Actor\" and \"Critic\" networks and 5e-4 performed the best.\n",
    "\n",
    "Lastly, weight decay of 1e-2 as used in the first paper significantly slowed down learning, and thus the weight decay was set to 0.\n",
    "\n",
    "The network architecture for both the \"Actor\" and \"Critic\" is based on the one from the first paper. It consists of two hidden fully-connected layers with 400 and 300 units, respectively. The action is used as an input to the second hidden layer of the \"Critic\". The tanh activation function is used for the output layer of the \"Actor\" to bound the value between -1 and 1. ReLU  is used in all other hidden layers. Lastly, batch normalization is applied to the state input and all layers in \"Actor\" and all layers prior to the action input in \"Critic\" such that it has a norm of 1.\n",
    "\n",
    "Ornstein-Uhlenbeck process is used to help with temporally correlated exploration. The implementation is borrowed from Udacity's [implementation](https://github.com/udacity/deep-reinforcement-learning/blob/master/ddpg-pendulum/ddpg_agent.py). However, during experimentation, it was discovered that the use of random number from a uniform distribution `random.random()` was harmful to learning. The use of random number from a normal distribution, on the other hand, allowed for fast learning convergence."
   ]
  },
  {
   "cell_type": "markdown",
   "metadata": {},
   "source": [
    "## Initialization\n",
    "\n",
    "Initialize the agent."
   ]
  },
  {
   "cell_type": "code",
   "execution_count": 5,
   "metadata": {},
   "outputs": [],
   "source": [
    "from d3pg import Controller\n",
    "\n",
    "seed = 69\n",
    "\n",
    "# initialize the algorithm controller\n",
    "controller = Controller(state_size, action_size, seed)"
   ]
  },
  {
   "cell_type": "markdown",
   "metadata": {},
   "source": [
    "Define the training function."
   ]
  },
  {
   "cell_type": "code",
   "execution_count": 6,
   "metadata": {},
   "outputs": [],
   "source": [
    "import time\n",
    "from collections import deque\n",
    "import torch\n",
    "\n",
    "def train_agent(env, \n",
    "                brain_name, \n",
    "                n_episodes=1000, \n",
    "                n_timesteps=1000, \n",
    "                print_every_n_episode=5,\n",
    "                learn_every_n_timestep=20,\n",
    "                n_learning=10,\n",
    "                passing_score=30, \n",
    "                actor_model_path=\"actor.pt\",\n",
    "                critic_model_path=\"critic.pt\"):\n",
    "    \n",
    "    # initialize start time\n",
    "    start_time = time.time()\n",
    "    \n",
    "    # initialize score trackers\n",
    "    scores = []\n",
    "    scores_deque = deque(maxlen=100)\n",
    "    \n",
    "    for i_episode in range(1, n_episodes+1):\n",
    "        \n",
    "        # initialize agent scores (one for each agent)\n",
    "        agent_scores = np.zeros(num_agents)\n",
    "        \n",
    "        # reset the environment\n",
    "        env_info = env.reset(train_mode=True)[brain_name]\n",
    "        \n",
    "        # reset the controller\n",
    "        controller.reset()\n",
    "\n",
    "        # get the current states (one for each agent)\n",
    "        states = env_info.vector_observations\n",
    "        \n",
    "        for timestep in range(n_timesteps):\n",
    "            # select actions (one for each agent)\n",
    "            actions = controller.act(states)\n",
    "                \n",
    "            # send actions to the environment\n",
    "            env_info = env.step(actions)[brain_name]\n",
    "            \n",
    "            # get next states\n",
    "            next_states = env_info.vector_observations\n",
    "            \n",
    "            # get rewards\n",
    "            rewards = env_info.rewards\n",
    "            \n",
    "            # get indicators if any episode finishes\n",
    "            dones = env_info.local_done\n",
    "            \n",
    "            # save experiences collected by agents\n",
    "            controller.save_experience(states, actions, rewards, next_states, dones)\n",
    "                \n",
    "            # learn m times every n timestep\n",
    "            if (timestep + 1) % learn_every_n_timestep == 0:\n",
    "                controller.learn(n_learning)\n",
    "            \n",
    "            # accumulate rewards for each agent\n",
    "            agent_scores += rewards\n",
    "            \n",
    "            # roll over to the next states\n",
    "            states = next_states\n",
    "            \n",
    "            # exit loop if any of the episodes finishes\n",
    "            if np.any(dones):\n",
    "                break\n",
    "        \n",
    "        # average scores over agents and add it to the score lists\n",
    "        average_score_over_agents = np.mean(agent_scores)\n",
    "        scores.append(average_score_over_agents)\n",
    "        scores_deque.append(average_score_over_agents)\n",
    "        average_score_over_100_episodes = np.mean(scores_deque)\n",
    "        \n",
    "        # print results\n",
    "        print(\"\\rEpisode {:4d}/{} \\t Current score: {:2.4f} | Avg score over 100 episodes: {:2.4f}\".format(i_episode, n_episodes, average_score_over_agents, average_score_over_100_episodes), end=\"\")\n",
    "        \n",
    "        if i_episode % print_every_n_episode == 0:\n",
    "            print(\"\\rEpisode {:4d}/{} \\t Current score: {:2.4f} | Avg score over 100 episodes: {:2.4f}\".format(i_episode, n_episodes, average_score_over_agents, average_score_over_100_episodes))\n",
    "            \n",
    "            minutes, seconds = utils.get_minutes_and_seconds_from_start_time(start_time)\n",
    "            print(\"Elapsed time: {:3d} minutes {:2d} seconds\\n\".format(minutes, seconds))\n",
    "        \n",
    "        if average_score_over_100_episodes >= passing_score:\n",
    "            print(\"\\rThe environment is solved in {} episodes with an average score of {:2.4f} over 100 episodes\".format(i_episode, average_score_over_100_episodes))\n",
    "            \n",
    "            minutes, seconds = utils.get_minutes_and_seconds_from_start_time(start_time)\n",
    "            print(\"Elapsed time: {:3d} minutes {:2d} seconds\".format(minutes, seconds))\n",
    "        \n",
    "            # save models\n",
    "            torch.save(controller.actor_local.state_dict(), actor_model_path)\n",
    "            torch.save(controller.critic_local.state_dict(), critic_model_path)\n",
    "            \n",
    "            break\n",
    "    \n",
    "    return scores"
   ]
  },
  {
   "cell_type": "markdown",
   "metadata": {},
   "source": [
    "## Training"
   ]
  },
  {
   "cell_type": "code",
   "execution_count": 7,
   "metadata": {},
   "outputs": [],
   "source": [
    "import utils\n",
    "from workspace_utils import active_session"
   ]
  },
  {
   "cell_type": "code",
   "execution_count": 8,
   "metadata": {
    "scrolled": false
   },
   "outputs": [
    {
     "name": "stdout",
     "output_type": "stream",
     "text": [
      "Episode    5/1000 \t Current score: 0.8735 | Avg score over 100 episodes: 0.9025\n",
      "Elapsed time:   1 minutes 30 seconds\n",
      "\n",
      "Episode   10/1000 \t Current score: 1.4755 | Avg score over 100 episodes: 1.0431\n",
      "Elapsed time:   3 minutes  5 seconds\n",
      "\n",
      "Episode   15/1000 \t Current score: 2.6620 | Avg score over 100 episodes: 1.5084\n",
      "Elapsed time:   4 minutes 46 seconds\n",
      "\n",
      "Episode   20/1000 \t Current score: 6.5305 | Avg score over 100 episodes: 2.4667\n",
      "Elapsed time:   6 minutes 38 seconds\n",
      "\n",
      "Episode   25/1000 \t Current score: 19.4920 | Avg score over 100 episodes: 5.1008\n",
      "Elapsed time:   8 minutes 40 seconds\n",
      "\n",
      "Episode   30/1000 \t Current score: 29.2980 | Avg score over 100 episodes: 8.8444\n",
      "Elapsed time:  10 minutes 56 seconds\n",
      "\n",
      "Episode   35/1000 \t Current score: 35.1355 | Avg score over 100 episodes: 12.5051\n",
      "Elapsed time:  13 minutes 24 seconds\n",
      "\n",
      "Episode   40/1000 \t Current score: 38.0010 | Avg score over 100 episodes: 15.5925\n",
      "Elapsed time:  16 minutes  5 seconds\n",
      "\n",
      "Episode   45/1000 \t Current score: 38.4430 | Avg score over 100 episodes: 18.1159\n",
      "Elapsed time:  18 minutes 58 seconds\n",
      "\n",
      "Episode   50/1000 \t Current score: 38.3260 | Avg score over 100 episodes: 20.1332\n",
      "Elapsed time:  22 minutes  4 seconds\n",
      "\n",
      "Episode   55/1000 \t Current score: 38.5510 | Avg score over 100 episodes: 21.7899\n",
      "Elapsed time:  25 minutes 17 seconds\n",
      "\n",
      "Episode   60/1000 \t Current score: 38.9320 | Avg score over 100 episodes: 23.1459\n",
      "Elapsed time:  28 minutes 30 seconds\n",
      "\n",
      "Episode   65/1000 \t Current score: 37.9985 | Avg score over 100 episodes: 24.3100\n",
      "Elapsed time:  31 minutes 43 seconds\n",
      "\n",
      "Episode   70/1000 \t Current score: 38.6985 | Avg score over 100 episodes: 25.2853\n",
      "Elapsed time:  34 minutes 56 seconds\n",
      "\n",
      "Episode   75/1000 \t Current score: 38.2860 | Avg score over 100 episodes: 26.1154\n",
      "Elapsed time:  38 minutes 10 seconds\n",
      "\n",
      "Episode   80/1000 \t Current score: 37.5435 | Avg score over 100 episodes: 26.8647\n",
      "Elapsed time:  41 minutes 24 seconds\n",
      "\n",
      "Episode   85/1000 \t Current score: 37.8425 | Avg score over 100 episodes: 27.5034\n",
      "Elapsed time:  44 minutes 38 seconds\n",
      "\n",
      "Episode   90/1000 \t Current score: 36.3995 | Avg score over 100 episodes: 28.0452\n",
      "Elapsed time:  47 minutes 51 seconds\n",
      "\n",
      "Episode   95/1000 \t Current score: 37.1195 | Avg score over 100 episodes: 28.5066\n",
      "Elapsed time:  51 minutes  4 seconds\n",
      "\n",
      "Episode  100/1000 \t Current score: 37.2830 | Avg score over 100 episodes: 28.9488\n",
      "Elapsed time:  54 minutes 18 seconds\n",
      "\n",
      "The environment is solved in 103 episodes with an average score of 30.0613 over 100 episodes\n",
      "Elapsed time:  56 minutes 15 seconds\n"
     ]
    }
   ],
   "source": [
    "with active_session():\n",
    "    scores = train_agent(env, brain_name)"
   ]
  },
  {
   "cell_type": "code",
   "execution_count": 9,
   "metadata": {},
   "outputs": [
    {
     "data": {
      "image/png": "[encoded data removed]",
      "text/plain": [
       "<matplotlib.figure.Figure at 0x7f8c4340dba8>"
      ]
     },
     "metadata": {
      "needs_background": "light"
     },
     "output_type": "display_data"
    }
   ],
   "source": [
    "utils.plot_scores(scores, \"Average score (over 100 episodes and over all 20 agents)\")"
   ]
  },
  {
   "cell_type": "markdown",
   "metadata": {},
   "source": [
    "## Future Work"
   ]
  },
  {
   "cell_type": "markdown",
   "metadata": {},
   "source": [
    "The [distributional version](https://openreview.net/forum?id=SyZipzbCb) of the algorithm used is the logical next step to improve the performance. The linked paper uses a categorical distribution with 51 atoms. According to the paper, the use of distributional \"Critic\" update leads to an improvement over the non-distributional version of the algorithm."
   ]
  }
 ],
 "metadata": {
  "kernelspec": {
   "display_name": "Python 3",
   "language": "python",
   "name": "python3"
  },
  "language_info": {
   "codemirror_mode": {
    "name": "ipython",
    "version": 3
   },
   "file_extension": ".py",
   "mimetype": "text/x-python",
   "name": "python",
   "nbconvert_exporter": "python",
   "pygments_lexer": "ipython3",
   "version": "3.6.8"
  }
 },
 "nbformat": 4,
 "nbformat_minor": 2
}
